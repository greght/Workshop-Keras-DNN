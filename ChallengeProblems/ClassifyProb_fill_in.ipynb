{
  "nbformat": 4,
  "nbformat_minor": 0,
  "metadata": {
    "colab": {
      "name": "ClassifyProb.ipynb",
      "provenance": [],
      "private_outputs": true,
      "include_colab_link": true
    },
    "kernelspec": {
      "name": "python3",
      "display_name": "Python 3"
    },
    "accelerator": "GPU"
  },
  "cells": [
    {
      "cell_type": "markdown",
      "metadata": {
        "id": "view-in-github",
        "colab_type": "text"
      },
      "source": [
        "<a href=\"https://colab.research.google.com/github/greght/Workshop-Keras-DNN/blob/master/ChallengeProblems/ClassifyProb_fill_in.ipynb\" target=\"_parent\"><img src=\"https://colab.research.google.com/assets/colab-badge.svg\" alt=\"Open In Colab\"/></a>"
      ]
    },
    {
      "cell_type": "code",
      "metadata": {
        "id": "JJS4cVhbL-D_"
      },
      "source": [
        "import keras\n",
        "# Import sequential model, dense layer\n",
        "\n",
        "import numpy as np\n",
        "\n",
        "import matplotlib\n",
        "import matplotlib.pyplot as plt\n",
        "from mpl_toolkits.mplot3d import Axes3D"
      ],
      "execution_count": null,
      "outputs": []
    },
    {
      "cell_type": "code",
      "metadata": {
        "id": "muNEWu9pL-0X"
      },
      "source": [
        "# Download data\n",
        "!wget --quiet https://raw.githubusercontent.com/greght/Workshop-Keras-DNN/master/ChallengeProblems/iris_test.csv\n",
        "!wget --quiet https://raw.githubusercontent.com/greght/Workshop-Keras-DNN/master/ChallengeProblems/iris_training.csv"
      ],
      "execution_count": null,
      "outputs": []
    },
    {
      "cell_type": "code",
      "metadata": {
        "id": "ufIYtHFrL-3C"
      },
      "source": [
        "# Import data (first 4 columns are x, last column is y)\n",
        "# Convert y from integer to \"one hot\" vector; e.g. 2 -> [0,0,1]\n",
        "dataIn = np.genfromtxt('iris_training.csv',delimiter=',')\n",
        "\n",
        "dataIn = np.genfromtxt('iris_test.csv',delimiter=',')"
      ],
      "execution_count": null,
      "outputs": []
    },
    {
      "cell_type": "code",
      "metadata": {
        "id": "aCWGikPUL-5O"
      },
      "source": [
        "# Create model (4 inputs, 3 hidden layers with 1000, 500, and 70 neurons, 3 output)\n",
        "\n",
        "\n",
        "# Compile using categorical crossentropy loss, Adagrad optimizer with learning rate = 0.01"
      ],
      "execution_count": null,
      "outputs": []
    },
    {
      "cell_type": "code",
      "metadata": {
        "id": "ar0msmQaL-7n"
      },
      "source": [
        "# Train for 2000 epochs with batch size of 10, using validation data"
      ],
      "execution_count": null,
      "outputs": []
    },
    {
      "cell_type": "code",
      "metadata": {
        "id": "2hJz5_V1PmfH"
      },
      "source": [
        "# Plot training & validation accuracy values\n",
        "plt.plot(history.history['accuracy'])\n",
        "plt.plot(history.history['val_accuracy'])\n",
        "plt.title('Model accuracy')\n",
        "plt.ylabel('Accuracy')\n",
        "plt.xlabel('Epoch')\n",
        "plt.legend(['Train', 'Valid'], loc='lower right')\n",
        "plt.show()\n",
        "\n",
        "# Plot training & validation loss values\n",
        "plt.plot(history.history['loss'])\n",
        "plt.plot(history.history['val_loss'])\n",
        "plt.title('Model loss')\n",
        "plt.ylabel('Loss')\n",
        "plt.xlabel('Epoch')\n",
        "plt.legend(['Train', 'Valid'], loc='upper right')\n",
        "plt.show()"
      ],
      "execution_count": null,
      "outputs": []
    },
    {
      "cell_type": "code",
      "metadata": {
        "id": "Yurhh2SULdu9"
      },
      "source": [
        "# Create a prediction set\n",
        "x_predict = np.array([[6.4, 3.2, 4.5, 1.5],\n",
        "                      [5.8, 3.1, 5.0, 1.7]], dtype=np.float32)\n",
        "\n",
        "# Find DNN prediction\n"
      ],
      "execution_count": null,
      "outputs": []
    }
  ]
}