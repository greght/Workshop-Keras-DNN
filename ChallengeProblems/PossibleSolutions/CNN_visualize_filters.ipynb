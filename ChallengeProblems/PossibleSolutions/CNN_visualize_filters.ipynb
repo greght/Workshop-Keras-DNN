{
  "nbformat": 4,
  "nbformat_minor": 0,
  "metadata": {
    "colab": {
      "name": "CNN_visualize_filters.ipynb",
      "private_outputs": true,
      "provenance": [],
      "include_colab_link": true
    },
    "kernelspec": {
      "name": "python3",
      "display_name": "Python 3"
    },
    "accelerator": "GPU"
  },
  "cells": [
    {
      "cell_type": "markdown",
      "metadata": {
        "id": "view-in-github",
        "colab_type": "text"
      },
      "source": [
        "<a href=\"https://colab.research.google.com/github/greght/Workshop-Keras-DNN/blob/master/ChallengeProblems/PossibleSolutions/CNN_visualize_filters.ipynb\" target=\"_parent\"><img src=\"https://colab.research.google.com/assets/colab-badge.svg\" alt=\"Open In Colab\"/></a>"
      ]
    },
    {
      "cell_type": "code",
      "metadata": {
        "id": "DGTA14oFSQpm"
      },
      "source": [
        "#see https://github.com/keras-team/keras/blob/master/examples/mnist_cnn.py\n",
        "\n",
        "import tensorflow as tf\n",
        "from tensorflow.keras.datasets import mnist\n",
        "from tensorflow.keras.models import Sequential\n",
        "from tensorflow.keras.layers import Dense, Conv2D, MaxPooling2D, Dropout, Flatten, BatchNormalization\n",
        "\n",
        "import matplotlib\n",
        "import matplotlib.pyplot as plt\n",
        "import matplotlib.cm as cm"
      ],
      "execution_count": null,
      "outputs": []
    },
    {
      "cell_type": "code",
      "metadata": {
        "id": "AbcBuevJevUg"
      },
      "source": [
        "def plotFilters(W):\n",
        "    for i in range(8):\n",
        "        plt.subplot(4,2,i+1)\n",
        "        plt.imshow(W[:,:,0,i],interpolation=\"nearest\",cmap=cm.bwr)\n",
        "\n",
        "    plt.draw()\n",
        "    plt.pause(0.001)"
      ],
      "execution_count": null,
      "outputs": []
    },
    {
      "cell_type": "code",
      "metadata": {
        "id": "os6k0O1kSRQ1"
      },
      "source": [
        "# Load data\n",
        "(x_train, y_train), (x_test, y_test) = mnist.load_data()\n",
        "x_train = x_train.reshape(x_train.shape[0], 28, 28, 1)\n",
        "y_train = tf.keras.utils.to_categorical(y_train, num_classes=10)\n",
        "x_test = x_test.reshape(x_test.shape[0], 28, 28, 1)\n",
        "y_test = tf.keras.utils.to_categorical(y_test, num_classes=10)"
      ],
      "execution_count": null,
      "outputs": []
    },
    {
      "cell_type": "code",
      "metadata": {
        "id": "gxbtthBFSRTV"
      },
      "source": [
        "# Create model\n",
        "model = Sequential()\n",
        "model.add(BatchNormalization(input_shape=(28,28,1)))\n",
        "model.add(Conv2D(8,kernel_size=(10,10),\n",
        "                 activation='relu'))\n",
        "model.add(MaxPooling2D(pool_size=(2,2)))\n",
        "model.add(Flatten())\n",
        "model.add(Dense(50,activation='relu'))\n",
        "model.add(Dropout(0.4))\n",
        "model.add(Dense(10,activation='softmax'))\n",
        "\n",
        "model.compile(loss='categorical_crossentropy',\n",
        "              optimizer=tf.keras.optimizers.Adagrad(learning_rate=0.01),\n",
        "              metrics=['accuracy'])"
      ],
      "execution_count": null,
      "outputs": []
    },
    {
      "cell_type": "code",
      "metadata": {
        "id": "kcO9N6_NSRV2"
      },
      "source": [
        "# Train & plot filters\n",
        "plotFilters(model.layers[1].get_weights()[0])\n",
        "for _ in range(10):\n",
        "    model.fit(x_train, y_train, validation_data=(x_test,y_test), epochs=1, batch_size=100, shuffle=True)\n",
        "    plotFilters(model.layers[1].get_weights()[0])"
      ],
      "execution_count": null,
      "outputs": []
    }
  ]
}