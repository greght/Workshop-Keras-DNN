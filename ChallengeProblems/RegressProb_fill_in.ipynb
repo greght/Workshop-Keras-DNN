{
  "nbformat": 4,
  "nbformat_minor": 0,
  "metadata": {
    "colab": {
      "name": "RegressProb.ipynb",
      "private_outputs": true,
      "provenance": [],
      "include_colab_link": true
    },
    "kernelspec": {
      "name": "python3",
      "display_name": "Python 3"
    },
    "accelerator": "GPU"
  },
  "cells": [
    {
      "cell_type": "markdown",
      "metadata": {
        "id": "view-in-github",
        "colab_type": "text"
      },
      "source": [
        "<a href=\"https://colab.research.google.com/github/greght/Workshop-Keras-DNN/blob/master/ChallengeProblems/RegressProb_fill_in.ipynb\" target=\"_parent\"><img src=\"https://colab.research.google.com/assets/colab-badge.svg\" alt=\"Open In Colab\"/></a>"
      ]
    },
    {
      "cell_type": "code",
      "metadata": {
        "id": "BSMfoHuOFu47"
      },
      "source": [
        "import tensorflow as tf\n",
        "# Import sequential model, dense layer\n",
        "\n",
        "import numpy as np\n",
        "\n",
        "import matplotlib\n",
        "import matplotlib.pyplot as plt\n",
        "from mpl_toolkits.mplot3d import Axes3D"
      ],
      "execution_count": null,
      "outputs": []
    },
    {
      "cell_type": "code",
      "metadata": {
        "id": "pC642fYIFwdv"
      },
      "source": [
        "# Download data\n",
        "!wget --quiet https://raw.githubusercontent.com/greght/Workshop-Keras-DNN/master/ChallengeProblems/dataRegression_test.csv\n",
        "!wget --quiet https://raw.githubusercontent.com/greght/Workshop-Keras-DNN/master/ChallengeProblems/dataRegression_train.csv"
      ],
      "execution_count": null,
      "outputs": []
    },
    {
      "cell_type": "code",
      "metadata": {
        "id": "x01qSw1QFwgT"
      },
      "source": [
        "# Import data\n",
        "dataIn = np.genfromtxt('dataRegression_train.csv',delimiter=',')\n",
        "x_train = dataIn[:,0:2]\n",
        "y_train = dataIn[:,2]\n",
        "dataIn = np.genfromtxt('dataRegression_test.csv',delimiter=',')\n",
        "x_test = dataIn[:,0:2]\n",
        "y_test = dataIn[:,2]"
      ],
      "execution_count": null,
      "outputs": []
    },
    {
      "cell_type": "code",
      "metadata": {
        "id": "_IPSzeDKFwjD"
      },
      "source": [
        "# Create model (2 inputs, 2 hidden layers with 5 neurons each, 1 output)\n",
        "\n",
        "\n",
        "# Compile using mean-square-error loss, Adagrad optimizer with learning rate = 0.1"
      ],
      "execution_count": null,
      "outputs": []
    },
    {
      "cell_type": "code",
      "metadata": {
        "id": "cx-gND0pFwl_"
      },
      "source": [
        "# Train for 100 epochs with batch size of 10, using validation data"
      ],
      "execution_count": null,
      "outputs": []
    },
    {
      "cell_type": "code",
      "metadata": {
        "id": "RfVM8UGnPfWW"
      },
      "source": [
        "# Plot training & validation loss values\n",
        "plt.plot(history.history['loss'])\n",
        "plt.plot(history.history['val_loss'])\n",
        "plt.title('Model loss')\n",
        "plt.ylabel('Loss')\n",
        "plt.xlabel('Epoch')\n",
        "plt.legend(['Train', 'Valid'], loc='upper right')\n",
        "plt.show()"
      ],
      "execution_count": null,
      "outputs": []
    },
    {
      "cell_type": "code",
      "metadata": {
        "id": "Zx7dbh4eF6cL"
      },
      "source": [
        "# Create a prediction set (on a grid)\n",
        "x_pred = np.mgrid[0:1:25j, 0:1:25j].reshape(2,-1).T\n",
        "\n",
        "# Find DNN prediction"
      ],
      "execution_count": null,
      "outputs": []
    },
    {
      "cell_type": "code",
      "metadata": {
        "id": "f6aDEzBGF6eu"
      },
      "source": [
        "# Plot the actual and predicted values\n",
        "fig = plt.figure()\n",
        "ax = fig.add_subplot(111, projection='3d')\n",
        "\n",
        "x1 = x_pred[:,0].reshape(25,-1)\n",
        "x2 = x_pred[:,1].reshape(25,-1)\n",
        "y = y_pred.reshape(25,-1)\n",
        "\n",
        "ax.scatter(x_train[:,0], x_train[:,1], y_train, c='r', marker='o')\n",
        "ax.scatter(x_test[:,0], x_test[:,1], y_test, c='b', marker='o')\n",
        "ax.plot_surface(x1,x2,y)\n",
        "\n",
        "ax.update({'xlabel':'x1', 'ylabel':'x2', 'zlabel':'f(x1,x2)'})\n",
        "\n",
        "plt.show()"
      ],
      "execution_count": null,
      "outputs": []
    }
  ]
}