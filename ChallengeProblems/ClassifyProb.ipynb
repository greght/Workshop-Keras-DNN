{
  "nbformat": 4,
  "nbformat_minor": 0,
  "metadata": {
    "colab": {
      "name": "ClassifyProb.ipynb",
      "provenance": [],
      "private_outputs": true,
      "include_colab_link": true
    },
    "kernelspec": {
      "name": "python3",
      "display_name": "Python 3"
    },
    "accelerator": "GPU"
  },
  "cells": [
    {
      "cell_type": "markdown",
      "metadata": {
        "id": "view-in-github",
        "colab_type": "text"
      },
      "source": [
        "<a href=\"https://colab.research.google.com/github/greght/Workshop-Keras-DNN/blob/master/ChallengeProblems/ClassifyProb.ipynb\" target=\"_parent\"><img src=\"https://colab.research.google.com/assets/colab-badge.svg\" alt=\"Open In Colab\"/></a>"
      ]
    },
    {
      "cell_type": "code",
      "metadata": {
        "id": "JJS4cVhbL-D_"
      },
      "source": [
        "import keras\n",
        "from keras.models import Sequential\n",
        "from keras.layers import Dense, Dropout\n",
        "import numpy as np\n",
        "\n",
        "import matplotlib\n",
        "import matplotlib.pyplot as plt\n",
        "from mpl_toolkits.mplot3d import Axes3D"
      ],
      "execution_count": null,
      "outputs": []
    },
    {
      "cell_type": "code",
      "metadata": {
        "id": "muNEWu9pL-0X"
      },
      "source": [
        "# Download data\n",
        "!wget --quiet https://raw.githubusercontent.com/greght/Workshop-Keras-DNN/master/ChallengeProblems/iris_test.csv\n",
        "!wget --quiet https://raw.githubusercontent.com/greght/Workshop-Keras-DNN/master/ChallengeProblems/iris_training.csv"
      ],
      "execution_count": null,
      "outputs": []
    },
    {
      "cell_type": "code",
      "metadata": {
        "id": "ufIYtHFrL-3C"
      },
      "source": [
        "# Import data\n",
        "dataIn = np.genfromtxt('iris_training.csv',delimiter=',')\n",
        "x_train = dataIn[:,0:-1]\n",
        "y_train = keras.utils.to_categorical(dataIn[:,-1], num_classes=3)\n",
        "\n",
        "dataIn = np.genfromtxt('iris_test.csv',delimiter=',')\n",
        "x_test = dataIn[:,0:-1]\n",
        "y_test = keras.utils.to_categorical(dataIn[:,-1], num_classes=3)"
      ],
      "execution_count": null,
      "outputs": []
    },
    {
      "cell_type": "code",
      "metadata": {
        "id": "aCWGikPUL-5O"
      },
      "source": [
        "# Create model\n",
        "model = Sequential()\n",
        "model.add(Dense(units=1000, activation='relu', input_dim=4))\n",
        "model.add(Dense(units=500, activation='relu'))\n",
        "model.add(Dense(units=70, activation='relu'))\n",
        "model.add(Dense(units=3, activation='softmax'))\n",
        "\n",
        "model.compile(loss='categorical_crossentropy',\n",
        "              optimizer=keras.optimizers.Adagrad(lr=0.01),\n",
        "              metrics=['accuracy'])"
      ],
      "execution_count": null,
      "outputs": []
    },
    {
      "cell_type": "code",
      "metadata": {
        "id": "ar0msmQaL-7n"
      },
      "source": [
        "# Train\n",
        "history = model.fit(x_train, y_train, validation_data=(x_test,y_test), epochs=2000, batch_size=10)"
      ],
      "execution_count": null,
      "outputs": []
    },
    {
      "cell_type": "code",
      "metadata": {
        "id": "2hJz5_V1PmfH"
      },
      "source": [
        "# Plot training & validation accuracy values\n",
        "plt.plot(history.history['accuracy'])\n",
        "plt.plot(history.history['val_accuracy'])\n",
        "plt.title('Model accuracy')\n",
        "plt.ylabel('Accuracy')\n",
        "plt.xlabel('Epoch')\n",
        "plt.legend(['Train', 'Valid'], loc='lower right')\n",
        "plt.show()\n",
        "\n",
        "# Plot training & validation loss values\n",
        "plt.plot(history.history['loss'])\n",
        "plt.plot(history.history['val_loss'])\n",
        "plt.title('Model loss')\n",
        "plt.ylabel('Loss')\n",
        "plt.xlabel('Epoch')\n",
        "plt.legend(['Train', 'Valid'], loc='upper right')\n",
        "plt.show()"
      ],
      "execution_count": null,
      "outputs": []
    },
    {
      "cell_type": "code",
      "metadata": {
        "id": "Yurhh2SULdu9"
      },
      "source": [
        "# Create a prediction set\n",
        "x_predict = np.array([[6.4, 3.2, 4.5, 1.5],\n",
        "                      [5.8, 3.1, 5.0, 1.7]], dtype=np.float32)\n",
        "y_predict = model.predict(x_predict)\n",
        "print(y_predict)\n"
      ],
      "execution_count": null,
      "outputs": []
    }
  ]
}